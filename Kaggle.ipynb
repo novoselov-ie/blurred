{
 "cells": [
  {
   "cell_type": "code",
   "execution_count": 1,
   "id": "26ecc71c",
   "metadata": {
    "execution": {
     "iopub.execute_input": "2022-12-28T14:43:12.138481Z",
     "iopub.status.busy": "2022-12-28T14:43:12.137988Z",
     "iopub.status.idle": "2022-12-28T14:43:14.109183Z",
     "shell.execute_reply": "2022-12-28T14:43:14.107918Z"
    },
    "papermill": {
     "duration": 1.985862,
     "end_time": "2022-12-28T14:43:14.112042",
     "exception": false,
     "start_time": "2022-12-28T14:43:12.126180",
     "status": "completed"
    },
    "tags": []
   },
   "outputs": [],
   "source": [
    "import os\n",
    "import numpy as np \n",
    "import pandas as pd \n",
    "import glob\n",
    "import cv2\n",
    "import torch\n",
    "from tqdm import tqdm"
   ]
  },
  {
   "cell_type": "code",
   "execution_count": 2,
   "id": "1aca113c",
   "metadata": {
    "execution": {
     "iopub.execute_input": "2022-12-28T14:43:14.131145Z",
     "iopub.status.busy": "2022-12-28T14:43:14.130250Z",
     "iopub.status.idle": "2022-12-28T14:43:14.153469Z",
     "shell.execute_reply": "2022-12-28T14:43:14.152237Z"
    },
    "papermill": {
     "duration": 0.035616,
     "end_time": "2022-12-28T14:43:14.156327",
     "exception": false,
     "start_time": "2022-12-28T14:43:14.120711",
     "status": "completed"
    },
    "tags": []
   },
   "outputs": [
    {
     "name": "stdout",
     "output_type": "stream",
     "text": [
      "2664\n"
     ]
    }
   ],
   "source": [
    "df_train = pd.read_csv('/kaggle/input/shift-cv-winter-2023/train.csv')\n",
    "print(len(df_train))"
   ]
  },
  {
   "cell_type": "code",
   "execution_count": 3,
   "id": "e82d2de0",
   "metadata": {
    "execution": {
     "iopub.execute_input": "2022-12-28T14:43:14.174977Z",
     "iopub.status.busy": "2022-12-28T14:43:14.174558Z",
     "iopub.status.idle": "2022-12-28T14:43:14.200193Z",
     "shell.execute_reply": "2022-12-28T14:43:14.199066Z"
    },
    "papermill": {
     "duration": 0.037957,
     "end_time": "2022-12-28T14:43:14.202674",
     "exception": false,
     "start_time": "2022-12-28T14:43:14.164717",
     "status": "completed"
    },
    "tags": []
   },
   "outputs": [
    {
     "data": {
      "text/html": [
       "<div>\n",
       "<style scoped>\n",
       "    .dataframe tbody tr th:only-of-type {\n",
       "        vertical-align: middle;\n",
       "    }\n",
       "\n",
       "    .dataframe tbody tr th {\n",
       "        vertical-align: top;\n",
       "    }\n",
       "\n",
       "    .dataframe thead th {\n",
       "        text-align: right;\n",
       "    }\n",
       "</style>\n",
       "<table border=\"1\" class=\"dataframe\">\n",
       "  <thead>\n",
       "    <tr style=\"text-align: right;\">\n",
       "      <th></th>\n",
       "      <th>filename</th>\n",
       "      <th>blur</th>\n",
       "    </tr>\n",
       "  </thead>\n",
       "  <tbody>\n",
       "    <tr>\n",
       "      <th>0</th>\n",
       "      <td>/kaggle/input/shift-cv-winter-2023/train/train...</td>\n",
       "      <td>0.0</td>\n",
       "    </tr>\n",
       "    <tr>\n",
       "      <th>1</th>\n",
       "      <td>/kaggle/input/shift-cv-winter-2023/train/train...</td>\n",
       "      <td>0.0</td>\n",
       "    </tr>\n",
       "    <tr>\n",
       "      <th>2</th>\n",
       "      <td>/kaggle/input/shift-cv-winter-2023/train/train...</td>\n",
       "      <td>0.0</td>\n",
       "    </tr>\n",
       "    <tr>\n",
       "      <th>3</th>\n",
       "      <td>/kaggle/input/shift-cv-winter-2023/train/train...</td>\n",
       "      <td>0.0</td>\n",
       "    </tr>\n",
       "    <tr>\n",
       "      <th>4</th>\n",
       "      <td>/kaggle/input/shift-cv-winter-2023/train/train...</td>\n",
       "      <td>1.0</td>\n",
       "    </tr>\n",
       "  </tbody>\n",
       "</table>\n",
       "</div>"
      ],
      "text/plain": [
       "                                            filename  blur\n",
       "0  /kaggle/input/shift-cv-winter-2023/train/train...   0.0\n",
       "1  /kaggle/input/shift-cv-winter-2023/train/train...   0.0\n",
       "2  /kaggle/input/shift-cv-winter-2023/train/train...   0.0\n",
       "3  /kaggle/input/shift-cv-winter-2023/train/train...   0.0\n",
       "4  /kaggle/input/shift-cv-winter-2023/train/train...   1.0"
      ]
     },
     "execution_count": 3,
     "metadata": {},
     "output_type": "execute_result"
    }
   ],
   "source": [
    "path = '/kaggle/input/shift-cv-winter-2023/train/train/'\n",
    "\n",
    "df_train['filename'] = df_train['filename'].apply(lambda x: path + x)\n",
    "df_train.head()"
   ]
  },
  {
   "cell_type": "code",
   "execution_count": 4,
   "id": "c356d372",
   "metadata": {
    "execution": {
     "iopub.execute_input": "2022-12-28T14:43:14.221362Z",
     "iopub.status.busy": "2022-12-28T14:43:14.220971Z",
     "iopub.status.idle": "2022-12-28T14:43:14.226474Z",
     "shell.execute_reply": "2022-12-28T14:43:14.225355Z"
    },
    "papermill": {
     "duration": 0.017988,
     "end_time": "2022-12-28T14:43:14.229146",
     "exception": false,
     "start_time": "2022-12-28T14:43:14.211158",
     "status": "completed"
    },
    "tags": []
   },
   "outputs": [],
   "source": [
    "def variance_of_laplacian(path_img):\n",
    "    img = cv2.imread(path_img)\n",
    "    image_grey=cv2.cvtColor(img, cv2.COLOR_BGR2GRAY)\n",
    "    return cv2.Laplacian(image_grey, cv2.CV_64F).var()"
   ]
  },
  {
   "cell_type": "code",
   "execution_count": 5,
   "id": "2e8d10ef",
   "metadata": {
    "execution": {
     "iopub.execute_input": "2022-12-28T14:43:14.248485Z",
     "iopub.status.busy": "2022-12-28T14:43:14.248068Z",
     "iopub.status.idle": "2022-12-28T14:44:03.645178Z",
     "shell.execute_reply": "2022-12-28T14:44:03.643973Z"
    },
    "papermill": {
     "duration": 49.410392,
     "end_time": "2022-12-28T14:44:03.648397",
     "exception": false,
     "start_time": "2022-12-28T14:43:14.238005",
     "status": "completed"
    },
    "tags": []
   },
   "outputs": [],
   "source": [
    "lap_measures = []\n",
    "\n",
    "for i in range(len(df_train)):\n",
    "    lap_measures.append(variance_of_laplacian(df_train.iloc [i]['filename']))\n",
    "    \n",
    "df_train['lap_measures'] = lap_measures \n",
    "\n",
    "#df_train[df_train[\"blur\"]==0].head(10)\n",
    "#df_train['filename'].head()"
   ]
  },
  {
   "cell_type": "code",
   "execution_count": 6,
   "id": "0ad4df83",
   "metadata": {
    "_kg_hide-output": false,
    "execution": {
     "iopub.execute_input": "2022-12-28T14:44:03.670343Z",
     "iopub.status.busy": "2022-12-28T14:44:03.669952Z",
     "iopub.status.idle": "2022-12-28T14:44:04.002709Z",
     "shell.execute_reply": "2022-12-28T14:44:04.001444Z"
    },
    "papermill": {
     "duration": 0.345632,
     "end_time": "2022-12-28T14:44:04.005180",
     "exception": false,
     "start_time": "2022-12-28T14:44:03.659548",
     "status": "completed"
    },
    "tags": []
   },
   "outputs": [
    {
     "data": {
      "image/png": "[encoded data removed]",
      "text/plain": [
       "<Figure size 432x288 with 1 Axes>"
      ]
     },
     "metadata": {
      "needs_background": "light"
     },
     "output_type": "display_data"
    },
    {
     "name": "stdout",
     "output_type": "stream",
     "text": [
      "33.934245553916696\n"
     ]
    }
   ],
   "source": [
    "from matplotlib import pyplot as plt\n",
    "#df_train.head()\n",
    "df_train[df_train[\"blur\"]==1].head()\n",
    "img = plt.imread(df_train.iloc [0]['filename'])\n",
    "plt.imshow(img)\n",
    "plt.show()\n",
    "\n",
    "print(variance_of_laplacian(df_train.iloc [4]['filename']))\n"
   ]
  },
  {
   "cell_type": "code",
   "execution_count": 7,
   "id": "7bc4c325",
   "metadata": {
    "execution": {
     "iopub.execute_input": "2022-12-28T14:44:04.029789Z",
     "iopub.status.busy": "2022-12-28T14:44:04.029166Z",
     "iopub.status.idle": "2022-12-28T14:44:04.120456Z",
     "shell.execute_reply": "2022-12-28T14:44:04.119167Z"
    },
    "papermill": {
     "duration": 0.106352,
     "end_time": "2022-12-28T14:44:04.122865",
     "exception": false,
     "start_time": "2022-12-28T14:44:04.016513",
     "status": "completed"
    },
    "tags": []
   },
   "outputs": [
    {
     "name": "stdout",
     "output_type": "stream",
     "text": [
      "Test images:  774\n"
     ]
    }
   ],
   "source": [
    "test_imgs = []\n",
    "for file in glob.glob(\"/kaggle/input/shift-cv-winter-2023/test/test/*.jpg\"):\n",
    "    test_imgs.append({'filename': file})\n",
    "df_test = pd.DataFrame(test_imgs)\n",
    "print(\"Test images: \", len(df_test))"
   ]
  },
  {
   "cell_type": "code",
   "execution_count": 8,
   "id": "3ae131bc",
   "metadata": {
    "execution": {
     "iopub.execute_input": "2022-12-28T14:44:04.147021Z",
     "iopub.status.busy": "2022-12-28T14:44:04.145757Z",
     "iopub.status.idle": "2022-12-28T14:44:04.155496Z",
     "shell.execute_reply": "2022-12-28T14:44:04.154389Z"
    },
    "papermill": {
     "duration": 0.024384,
     "end_time": "2022-12-28T14:44:04.157987",
     "exception": false,
     "start_time": "2022-12-28T14:44:04.133603",
     "status": "completed"
    },
    "tags": []
   },
   "outputs": [
    {
     "name": "stdout",
     "output_type": "stream",
     "text": [
      "blur images: 1297\n",
      "sharp images: 1367\n"
     ]
    }
   ],
   "source": [
    "train_blur = df_train[df_train[\"blur\"]==1]\n",
    "train_sharp = df_train[df_train[\"blur\"]==0]\n",
    "\n",
    "print(\"blur images:\", len(train_blur))\n",
    "print(\"sharp images:\", len(train_sharp))"
   ]
  },
  {
   "cell_type": "code",
   "execution_count": 9,
   "id": "09da1f31",
   "metadata": {
    "execution": {
     "iopub.execute_input": "2022-12-28T14:44:04.180959Z",
     "iopub.status.busy": "2022-12-28T14:44:04.179786Z",
     "iopub.status.idle": "2022-12-28T14:44:04.185470Z",
     "shell.execute_reply": "2022-12-28T14:44:04.184350Z"
    },
    "papermill": {
     "duration": 0.019441,
     "end_time": "2022-12-28T14:44:04.187682",
     "exception": false,
     "start_time": "2022-12-28T14:44:04.168241",
     "status": "completed"
    },
    "tags": []
   },
   "outputs": [],
   "source": [
    "def read_image_gray(path):\n",
    "    return cv2.cvtColor(cv2.imread(path), cv2.COLOR_BGR2GRAY)"
   ]
  },
  {
   "cell_type": "code",
   "execution_count": 10,
   "id": "49da3905",
   "metadata": {
    "execution": {
     "iopub.execute_input": "2022-12-28T14:44:04.209773Z",
     "iopub.status.busy": "2022-12-28T14:44:04.209362Z",
     "iopub.status.idle": "2022-12-28T14:44:04.219505Z",
     "shell.execute_reply": "2022-12-28T14:44:04.218286Z"
    },
    "papermill": {
     "duration": 0.024203,
     "end_time": "2022-12-28T14:44:04.222069",
     "exception": false,
     "start_time": "2022-12-28T14:44:04.197866",
     "status": "completed"
    },
    "tags": []
   },
   "outputs": [],
   "source": [
    "from torch.utils.data import Dataset, DataLoader\n",
    "\n",
    "class CustomDataset(Dataset):\n",
    "    def __init__(self, df):\n",
    "        self.df = df\n",
    "               \n",
    "    def __len__(self):\n",
    "        return len(self.df)\n",
    "\n",
    "\n",
    "class CustomDatasetTrain(CustomDataset):\n",
    "    def __init__(self, df, transform=None):\n",
    "        super().__init__(df)\n",
    "        self.transform = transform\n",
    "   \n",
    "    def __getitem__(self,idx):\n",
    "        image = self.df.filename.iloc[idx]\n",
    "        image = read_image_gray(image)\n",
    "        if self.transform:\n",
    "            image = self.transform(image)\n",
    "        label = self.df.blur.iloc[idx]\n",
    "        return {'image': image, 'label': label}\n",
    "\n",
    "\n",
    "class CustomDatasetTest(CustomDataset):\n",
    "    def __getitem__(self,idx):\n",
    "        image = self.df.filename.iloc[idx]\n",
    "        image = read_image_gray(image)\n",
    "        return {'image': image}"
   ]
  },
  {
   "cell_type": "code",
   "execution_count": 11,
   "id": "a9df89f1",
   "metadata": {
    "execution": {
     "iopub.execute_input": "2022-12-28T14:44:04.246312Z",
     "iopub.status.busy": "2022-12-28T14:44:04.245878Z",
     "iopub.status.idle": "2022-12-28T14:44:04.251779Z",
     "shell.execute_reply": "2022-12-28T14:44:04.250586Z"
    },
    "papermill": {
     "duration": 0.02046,
     "end_time": "2022-12-28T14:44:04.254033",
     "exception": false,
     "start_time": "2022-12-28T14:44:04.233573",
     "status": "completed"
    },
    "tags": []
   },
   "outputs": [],
   "source": [
    "train_dataset = CustomDatasetTrain(df_train)\n",
    "\n",
    "train_dataloader = DataLoader(\n",
    "            dataset=train_dataset,\n",
    "            batch_size=16,\n",
    "            ),"
   ]
  },
  {
   "cell_type": "code",
   "execution_count": 12,
   "id": "31cd310e",
   "metadata": {
    "execution": {
     "iopub.execute_input": "2022-12-28T14:44:04.277330Z",
     "iopub.status.busy": "2022-12-28T14:44:04.276552Z",
     "iopub.status.idle": "2022-12-28T14:44:04.285015Z",
     "shell.execute_reply": "2022-12-28T14:44:04.284142Z"
    },
    "papermill": {
     "duration": 0.022714,
     "end_time": "2022-12-28T14:44:04.287164",
     "exception": false,
     "start_time": "2022-12-28T14:44:04.264450",
     "status": "completed"
    },
    "tags": []
   },
   "outputs": [],
   "source": [
    "def calc_fft_measure(gray_img, size=40):\n",
    "    (n, h, w) = gray_img.shape\n",
    "    (cx, cy) = (int(w / 2.0), int(h / 2.0))\n",
    "    fft = np.fft.fft2(gray_img, axes=(1, 2))\n",
    "    fftShift = np.fft.fftshift(fft, axes=(1, 2))\n",
    "\n",
    "    fftShift[:, cy - size : cy + size, cx - size : cx + size] = 0\n",
    "    fftShift = np.fft.ifftshift(fftShift, axes=(1, 2))\n",
    "    recon = np.fft.ifft2(fftShift, axes=(1, 2))\n",
    "    \n",
    "    magnitude = 20 * np.log(np.abs(recon))\n",
    "    mean = 1/np.average(magnitude, axis=(1, 2))\n",
    "\n",
    "    return mean"
   ]
  },
  {
   "cell_type": "code",
   "execution_count": 13,
   "id": "8f8c1638",
   "metadata": {
    "execution": {
     "iopub.execute_input": "2022-12-28T14:44:04.311198Z",
     "iopub.status.busy": "2022-12-28T14:44:04.310100Z",
     "iopub.status.idle": "2022-12-28T14:44:04.319983Z",
     "shell.execute_reply": "2022-12-28T14:44:04.318837Z"
    },
    "papermill": {
     "duration": 0.024069,
     "end_time": "2022-12-28T14:44:04.322508",
     "exception": false,
     "start_time": "2022-12-28T14:44:04.298439",
     "status": "completed"
    },
    "tags": []
   },
   "outputs": [],
   "source": [
    "def calc_tv_measure(gray_img):\n",
    "\n",
    "    gray_img = gray_img.detach().clone()\n",
    "    gray_img = gray_img[:, gray_img.shape[1]//4:3*gray_img.shape[1]//4,gray_img.shape[2]//4:3*gray_img.shape[2]//4]\n",
    "    \n",
    "    w_variance = torch.sum(torch.pow(gray_img[:, :, 1:] - gray_img[:, :, :-1], 2), dim=[1, 2])\n",
    "    h_variance = torch.sum(torch.pow(gray_img[:, 1:, :] - gray_img[:, :-1, :], 2), dim=[1, 2])\n",
    "\n",
    "    l2_score = (h_variance + w_variance)\n",
    "\n",
    "    w_variance = torch.sum(torch.abs(gray_img[:, :, 1:] - gray_img[:, :, :-1]), dim=[1, 2])\n",
    "    h_variance = torch.sum(torch.abs(gray_img[:, 1:, :] - gray_img[:, :-1, :]), dim=[1, 2])\n",
    "    \n",
    "    l1_score = (h_variance + w_variance)\n",
    "    \n",
    "    tv_measure = l1_score/l2_score\n",
    "    \n",
    "    return tv_measure"
   ]
  },
  {
   "cell_type": "code",
   "execution_count": 14,
   "id": "bf04ed6d",
   "metadata": {
    "execution": {
     "iopub.execute_input": "2022-12-28T14:44:04.346886Z",
     "iopub.status.busy": "2022-12-28T14:44:04.345651Z",
     "iopub.status.idle": "2022-12-28T14:46:27.731204Z",
     "shell.execute_reply": "2022-12-28T14:46:27.729855Z"
    },
    "papermill": {
     "duration": 143.400196,
     "end_time": "2022-12-28T14:46:27.733637",
     "exception": false,
     "start_time": "2022-12-28T14:44:04.333441",
     "status": "completed"
    },
    "tags": []
   },
   "outputs": [
    {
     "name": "stderr",
     "output_type": "stream",
     "text": [
      "100%|██████████| 167/167 [02:23<00:00,  1.16it/s]\n"
     ]
    },
    {
     "data": {
      "text/html": [
       "<div>\n",
       "<style scoped>\n",
       "    .dataframe tbody tr th:only-of-type {\n",
       "        vertical-align: middle;\n",
       "    }\n",
       "\n",
       "    .dataframe tbody tr th {\n",
       "        vertical-align: top;\n",
       "    }\n",
       "\n",
       "    .dataframe thead th {\n",
       "        text-align: right;\n",
       "    }\n",
       "</style>\n",
       "<table border=\"1\" class=\"dataframe\">\n",
       "  <thead>\n",
       "    <tr style=\"text-align: right;\">\n",
       "      <th></th>\n",
       "      <th>filename</th>\n",
       "      <th>blur</th>\n",
       "      <th>lap_measures</th>\n",
       "      <th>tv_measure</th>\n",
       "      <th>fft_measure</th>\n",
       "    </tr>\n",
       "  </thead>\n",
       "  <tbody>\n",
       "    <tr>\n",
       "      <th>0</th>\n",
       "      <td>/kaggle/input/shift-cv-winter-2023/train/train...</td>\n",
       "      <td>0.0</td>\n",
       "      <td>403.814067</td>\n",
       "      <td>4.340060</td>\n",
       "      <td>0.027601</td>\n",
       "    </tr>\n",
       "    <tr>\n",
       "      <th>1</th>\n",
       "      <td>/kaggle/input/shift-cv-winter-2023/train/train...</td>\n",
       "      <td>0.0</td>\n",
       "      <td>884.459052</td>\n",
       "      <td>2.989293</td>\n",
       "      <td>0.025317</td>\n",
       "    </tr>\n",
       "    <tr>\n",
       "      <th>2</th>\n",
       "      <td>/kaggle/input/shift-cv-winter-2023/train/train...</td>\n",
       "      <td>0.0</td>\n",
       "      <td>362.737453</td>\n",
       "      <td>4.313049</td>\n",
       "      <td>0.033126</td>\n",
       "    </tr>\n",
       "    <tr>\n",
       "      <th>3</th>\n",
       "      <td>/kaggle/input/shift-cv-winter-2023/train/train...</td>\n",
       "      <td>0.0</td>\n",
       "      <td>219.264783</td>\n",
       "      <td>5.828151</td>\n",
       "      <td>0.040531</td>\n",
       "    </tr>\n",
       "    <tr>\n",
       "      <th>4</th>\n",
       "      <td>/kaggle/input/shift-cv-winter-2023/train/train...</td>\n",
       "      <td>1.0</td>\n",
       "      <td>33.934246</td>\n",
       "      <td>5.371748</td>\n",
       "      <td>0.054616</td>\n",
       "    </tr>\n",
       "  </tbody>\n",
       "</table>\n",
       "</div>"
      ],
      "text/plain": [
       "                                            filename  blur  lap_measures  \\\n",
       "0  /kaggle/input/shift-cv-winter-2023/train/train...   0.0    403.814067   \n",
       "1  /kaggle/input/shift-cv-winter-2023/train/train...   0.0    884.459052   \n",
       "2  /kaggle/input/shift-cv-winter-2023/train/train...   0.0    362.737453   \n",
       "3  /kaggle/input/shift-cv-winter-2023/train/train...   0.0    219.264783   \n",
       "4  /kaggle/input/shift-cv-winter-2023/train/train...   1.0     33.934246   \n",
       "\n",
       "   tv_measure  fft_measure  \n",
       "0    4.340060     0.027601  \n",
       "1    2.989293     0.025317  \n",
       "2    4.313049     0.033126  \n",
       "3    5.828151     0.040531  \n",
       "4    5.371748     0.054616  "
      ]
     },
     "execution_count": 14,
     "metadata": {},
     "output_type": "execute_result"
    }
   ],
   "source": [
    "tv_measures = []\n",
    "fft_measures = []\n",
    "\n",
    "for dl in train_dataloader:\n",
    "    for batch in tqdm(dl):\n",
    "        tv_measures.extend(calc_tv_measure(batch['image']).tolist())\n",
    "        fft_measures.extend(calc_fft_measure(batch['image']).tolist())\n",
    "df_train['tv_measure'] = tv_measures\n",
    "df_train['fft_measure'] = fft_measures  \n",
    "\n",
    "df_train.head()"
   ]
  },
  {
   "cell_type": "markdown",
   "id": "59c2f84f",
   "metadata": {
    "papermill": {
     "duration": 0.020525,
     "end_time": "2022-12-28T14:46:27.774996",
     "exception": false,
     "start_time": "2022-12-28T14:46:27.754471",
     "status": "completed"
    },
    "tags": []
   },
   "source": [
    "**Добавим больше данных**\n",
    "\n",
    "Метод отклонения\n",
    "\n",
    "Тененградский градиентный метод\n"
   ]
  },
  {
   "cell_type": "code",
   "execution_count": 15,
   "id": "9de64a09",
   "metadata": {
    "execution": {
     "iopub.execute_input": "2022-12-28T14:46:27.817735Z",
     "iopub.status.busy": "2022-12-28T14:46:27.817294Z",
     "iopub.status.idle": "2022-12-28T14:46:27.824460Z",
     "shell.execute_reply": "2022-12-28T14:46:27.823199Z"
    },
    "papermill": {
     "duration": 0.031255,
     "end_time": "2022-12-28T14:46:27.826765",
     "exception": false,
     "start_time": "2022-12-28T14:46:27.795510",
     "status": "completed"
    },
    "tags": []
   },
   "outputs": [],
   "source": [
    "def mean_Std_Dev(path_img):\n",
    "    img = cv2.imread(path_img)\n",
    "    img_gray=cv2.cvtColor(img, cv2.COLOR_BGR2GRAY)\n",
    "    mean = cv2.meanStdDev(img_gray)\n",
    "    return mean\n",
    "\n",
    "def variance_of_Sobol(path_img):\n",
    "    img = cv2.imread(path_img)\n",
    "    img_gray=cv2.cvtColor(img, cv2.COLOR_BGR2GRAY)\n",
    "    return cv2.Sobel(img_gray,cv2.CV_64F,1,1).var()"
   ]
  },
  {
   "cell_type": "code",
   "execution_count": 16,
   "id": "7d8fd11f",
   "metadata": {
    "execution": {
     "iopub.execute_input": "2022-12-28T14:46:27.870435Z",
     "iopub.status.busy": "2022-12-28T14:46:27.870040Z",
     "iopub.status.idle": "2022-12-28T14:46:55.512041Z",
     "shell.execute_reply": "2022-12-28T14:46:55.510903Z"
    },
    "papermill": {
     "duration": 27.667239,
     "end_time": "2022-12-28T14:46:55.514780",
     "exception": false,
     "start_time": "2022-12-28T14:46:27.847541",
     "status": "completed"
    },
    "tags": []
   },
   "outputs": [],
   "source": [
    "Sobol_measures = []\n",
    "\n",
    "for i in range(len(df_train)):\n",
    "    Sobol_measures.append(variance_of_Sobol(df_train.iloc [i]['filename']))\n",
    "    \n",
    "df_train['Sobol_measures'] = Sobol_measures "
   ]
  },
  {
   "cell_type": "code",
   "execution_count": 17,
   "id": "2343d9cf",
   "metadata": {
    "execution": {
     "iopub.execute_input": "2022-12-28T14:46:55.557989Z",
     "iopub.status.busy": "2022-12-28T14:46:55.557590Z",
     "iopub.status.idle": "2022-12-28T14:47:14.363768Z",
     "shell.execute_reply": "2022-12-28T14:47:14.362626Z"
    },
    "papermill": {
     "duration": 18.830988,
     "end_time": "2022-12-28T14:47:14.366719",
     "exception": false,
     "start_time": "2022-12-28T14:46:55.535731",
     "status": "completed"
    },
    "tags": []
   },
   "outputs": [],
   "source": [
    "mean_measures = []\n",
    "stddev_measures = []\n",
    "\n",
    "for i in range(len(df_train)):\n",
    "    mean_std =[]\n",
    "    mean_std = mean_Std_Dev(df_train.iloc [i]['filename'])\n",
    "    mean_measures.append(mean_std [0][0][0])\n",
    "    stddev_measures.append(mean_std[1][0][0])\n",
    "    \n",
    "df_train['mean_measures'] = mean_measures \n",
    "df_train['stddev_measures'] = stddev_measures"
   ]
  },
  {
   "cell_type": "code",
   "execution_count": 18,
   "id": "a578203d",
   "metadata": {
    "execution": {
     "iopub.execute_input": "2022-12-28T14:47:14.410216Z",
     "iopub.status.busy": "2022-12-28T14:47:14.409788Z",
     "iopub.status.idle": "2022-12-28T14:47:14.418151Z",
     "shell.execute_reply": "2022-12-28T14:47:14.417147Z"
    },
    "papermill": {
     "duration": 0.032581,
     "end_time": "2022-12-28T14:47:14.420483",
     "exception": false,
     "start_time": "2022-12-28T14:47:14.387902",
     "status": "completed"
    },
    "tags": []
   },
   "outputs": [],
   "source": [
    "features =['lap_measures','tv_measure','fft_measure','Sobol_measures','mean_measures','stddev_measures']\n",
    "X_train = df_train[features]\n",
    "y_train = df_train['blur'] "
   ]
  },
  {
   "cell_type": "markdown",
   "id": "d1e48cdb",
   "metadata": {
    "papermill": {
     "duration": 0.020325,
     "end_time": "2022-12-28T14:47:14.461692",
     "exception": false,
     "start_time": "2022-12-28T14:47:14.441367",
     "status": "completed"
    },
    "tags": []
   },
   "source": [
    "**Созданеи тестовых данных**"
   ]
  },
  {
   "cell_type": "code",
   "execution_count": 19,
   "id": "a8cca0b1",
   "metadata": {
    "execution": {
     "iopub.execute_input": "2022-12-28T14:47:14.504114Z",
     "iopub.status.busy": "2022-12-28T14:47:14.503715Z",
     "iopub.status.idle": "2022-12-28T14:47:25.885455Z",
     "shell.execute_reply": "2022-12-28T14:47:25.884295Z"
    },
    "papermill": {
     "duration": 11.40638,
     "end_time": "2022-12-28T14:47:25.888447",
     "exception": false,
     "start_time": "2022-12-28T14:47:14.482067",
     "status": "completed"
    },
    "tags": []
   },
   "outputs": [],
   "source": [
    "lap_measures = []\n",
    "\n",
    "for i in range(len(df_test)):\n",
    "    lap_measures.append(variance_of_laplacian(df_test.iloc [i]['filename']))\n",
    "    \n",
    "df_test['lap_measures'] = lap_measures \n"
   ]
  },
  {
   "cell_type": "code",
   "execution_count": 20,
   "id": "3491e1f1",
   "metadata": {
    "execution": {
     "iopub.execute_input": "2022-12-28T14:47:25.931801Z",
     "iopub.status.busy": "2022-12-28T14:47:25.931097Z",
     "iopub.status.idle": "2022-12-28T14:47:33.952946Z",
     "shell.execute_reply": "2022-12-28T14:47:33.951878Z"
    },
    "papermill": {
     "duration": 8.046411,
     "end_time": "2022-12-28T14:47:33.955646",
     "exception": false,
     "start_time": "2022-12-28T14:47:25.909235",
     "status": "completed"
    },
    "tags": []
   },
   "outputs": [],
   "source": [
    "Sobol_measures = []\n",
    "\n",
    "for i in range(len(df_test)):\n",
    "    Sobol_measures.append(variance_of_Sobol(df_test.iloc[i]['filename']))\n",
    "    \n",
    "df_test['Sobol_measures'] = Sobol_measures "
   ]
  },
  {
   "cell_type": "code",
   "execution_count": 21,
   "id": "8347750a",
   "metadata": {
    "execution": {
     "iopub.execute_input": "2022-12-28T14:47:33.999511Z",
     "iopub.status.busy": "2022-12-28T14:47:33.999121Z",
     "iopub.status.idle": "2022-12-28T14:47:39.364189Z",
     "shell.execute_reply": "2022-12-28T14:47:39.362998Z"
    },
    "papermill": {
     "duration": 5.39026,
     "end_time": "2022-12-28T14:47:39.367126",
     "exception": false,
     "start_time": "2022-12-28T14:47:33.976866",
     "status": "completed"
    },
    "tags": []
   },
   "outputs": [],
   "source": [
    "mean_measures = []\n",
    "stddev_measures = []\n",
    "\n",
    "for i in range(len(df_test)):\n",
    "    mean_std =[]\n",
    "    mean_std = mean_Std_Dev(df_test.iloc [i]['filename'])\n",
    "    mean_measures.append(mean_std [0][0][0])\n",
    "    stddev_measures.append(mean_std[1][0][0])\n",
    "    \n",
    "df_test['mean_measures'] = mean_measures \n",
    "df_test['stddev_measures'] = stddev_measures"
   ]
  },
  {
   "cell_type": "code",
   "execution_count": 22,
   "id": "de5a9917",
   "metadata": {
    "execution": {
     "iopub.execute_input": "2022-12-28T14:47:39.411593Z",
     "iopub.status.busy": "2022-12-28T14:47:39.410492Z",
     "iopub.status.idle": "2022-12-28T14:48:20.972826Z",
     "shell.execute_reply": "2022-12-28T14:48:20.971569Z"
    },
    "papermill": {
     "duration": 41.586701,
     "end_time": "2022-12-28T14:48:20.975297",
     "exception": false,
     "start_time": "2022-12-28T14:47:39.388596",
     "status": "completed"
    },
    "tags": []
   },
   "outputs": [
    {
     "name": "stderr",
     "output_type": "stream",
     "text": [
      "100%|██████████| 49/49 [00:41<00:00,  1.18it/s]\n"
     ]
    },
    {
     "data": {
      "text/html": [
       "<div>\n",
       "<style scoped>\n",
       "    .dataframe tbody tr th:only-of-type {\n",
       "        vertical-align: middle;\n",
       "    }\n",
       "\n",
       "    .dataframe tbody tr th {\n",
       "        vertical-align: top;\n",
       "    }\n",
       "\n",
       "    .dataframe thead th {\n",
       "        text-align: right;\n",
       "    }\n",
       "</style>\n",
       "<table border=\"1\" class=\"dataframe\">\n",
       "  <thead>\n",
       "    <tr style=\"text-align: right;\">\n",
       "      <th></th>\n",
       "      <th>filename</th>\n",
       "      <th>lap_measures</th>\n",
       "      <th>Sobol_measures</th>\n",
       "      <th>mean_measures</th>\n",
       "      <th>stddev_measures</th>\n",
       "      <th>tv_measure</th>\n",
       "      <th>fft_measure</th>\n",
       "    </tr>\n",
       "  </thead>\n",
       "  <tbody>\n",
       "    <tr>\n",
       "      <th>0</th>\n",
       "      <td>/kaggle/input/shift-cv-winter-2023/test/test/s...</td>\n",
       "      <td>590.694200</td>\n",
       "      <td>391.261704</td>\n",
       "      <td>125.267349</td>\n",
       "      <td>51.671799</td>\n",
       "      <td>3.117185</td>\n",
       "      <td>0.026317</td>\n",
       "    </tr>\n",
       "    <tr>\n",
       "      <th>1</th>\n",
       "      <td>/kaggle/input/shift-cv-winter-2023/test/test/m...</td>\n",
       "      <td>18.715744</td>\n",
       "      <td>8.441822</td>\n",
       "      <td>87.966960</td>\n",
       "      <td>62.974327</td>\n",
       "      <td>11.831388</td>\n",
       "      <td>0.090741</td>\n",
       "    </tr>\n",
       "    <tr>\n",
       "      <th>2</th>\n",
       "      <td>/kaggle/input/shift-cv-winter-2023/test/test/a...</td>\n",
       "      <td>366.014348</td>\n",
       "      <td>217.556695</td>\n",
       "      <td>94.715386</td>\n",
       "      <td>69.625136</td>\n",
       "      <td>3.895545</td>\n",
       "      <td>0.032686</td>\n",
       "    </tr>\n",
       "    <tr>\n",
       "      <th>3</th>\n",
       "      <td>/kaggle/input/shift-cv-winter-2023/test/test/q...</td>\n",
       "      <td>21.395315</td>\n",
       "      <td>13.697021</td>\n",
       "      <td>98.465454</td>\n",
       "      <td>43.544982</td>\n",
       "      <td>6.882382</td>\n",
       "      <td>0.062959</td>\n",
       "    </tr>\n",
       "    <tr>\n",
       "      <th>4</th>\n",
       "      <td>/kaggle/input/shift-cv-winter-2023/test/test/l...</td>\n",
       "      <td>307.438624</td>\n",
       "      <td>157.736786</td>\n",
       "      <td>139.741340</td>\n",
       "      <td>48.286316</td>\n",
       "      <td>3.712345</td>\n",
       "      <td>0.028509</td>\n",
       "    </tr>\n",
       "  </tbody>\n",
       "</table>\n",
       "</div>"
      ],
      "text/plain": [
       "                                            filename  lap_measures  \\\n",
       "0  /kaggle/input/shift-cv-winter-2023/test/test/s...    590.694200   \n",
       "1  /kaggle/input/shift-cv-winter-2023/test/test/m...     18.715744   \n",
       "2  /kaggle/input/shift-cv-winter-2023/test/test/a...    366.014348   \n",
       "3  /kaggle/input/shift-cv-winter-2023/test/test/q...     21.395315   \n",
       "4  /kaggle/input/shift-cv-winter-2023/test/test/l...    307.438624   \n",
       "\n",
       "   Sobol_measures  mean_measures  stddev_measures  tv_measure  fft_measure  \n",
       "0      391.261704     125.267349        51.671799    3.117185     0.026317  \n",
       "1        8.441822      87.966960        62.974327   11.831388     0.090741  \n",
       "2      217.556695      94.715386        69.625136    3.895545     0.032686  \n",
       "3       13.697021      98.465454        43.544982    6.882382     0.062959  \n",
       "4      157.736786     139.741340        48.286316    3.712345     0.028509  "
      ]
     },
     "execution_count": 22,
     "metadata": {},
     "output_type": "execute_result"
    }
   ],
   "source": [
    "test_dataset = CustomDatasetTest(df_test)\n",
    "test_dataloader = DataLoader(dataset=test_dataset, batch_size=16),\n",
    "\n",
    "tv_measures = []\n",
    "fft_measures = []\n",
    "\n",
    "for dl in test_dataloader:\n",
    "    for batch in tqdm(dl):\n",
    "        tv_measures.extend(calc_tv_measure(batch['image']).tolist())\n",
    "        fft_measures.extend(calc_fft_measure(batch['image']).tolist())\n",
    "        \n",
    "df_test['tv_measure'] = tv_measures\n",
    "df_test['fft_measure'] = fft_measures  \n",
    "\n",
    "df_test.head()"
   ]
  },
  {
   "cell_type": "code",
   "execution_count": 23,
   "id": "6c6b6da9",
   "metadata": {
    "execution": {
     "iopub.execute_input": "2022-12-28T14:48:21.025529Z",
     "iopub.status.busy": "2022-12-28T14:48:21.025149Z",
     "iopub.status.idle": "2022-12-28T14:48:21.033611Z",
     "shell.execute_reply": "2022-12-28T14:48:21.032728Z"
    },
    "papermill": {
     "duration": 0.036422,
     "end_time": "2022-12-28T14:48:21.035854",
     "exception": false,
     "start_time": "2022-12-28T14:48:20.999432",
     "status": "completed"
    },
    "tags": []
   },
   "outputs": [],
   "source": [
    "features =['lap_measures','tv_measure','fft_measure','Sobol_measures','mean_measures','stddev_measures']\n",
    "X_test = df_test[features]"
   ]
  },
  {
   "cell_type": "markdown",
   "id": "617e304a",
   "metadata": {
    "papermill": {
     "duration": 0.023721,
     "end_time": "2022-12-28T14:48:21.083694",
     "exception": false,
     "start_time": "2022-12-28T14:48:21.059973",
     "status": "completed"
    },
    "tags": []
   },
   "source": [
    "**Модель построенная на RFC с использованием GridSearchCV**"
   ]
  },
  {
   "cell_type": "code",
   "execution_count": 24,
   "id": "06012df4",
   "metadata": {
    "execution": {
     "iopub.execute_input": "2022-12-28T14:48:21.135589Z",
     "iopub.status.busy": "2022-12-28T14:48:21.135179Z",
     "iopub.status.idle": "2022-12-28T14:48:21.928703Z",
     "shell.execute_reply": "2022-12-28T14:48:21.927550Z"
    },
    "papermill": {
     "duration": 0.822325,
     "end_time": "2022-12-28T14:48:21.931595",
     "exception": false,
     "start_time": "2022-12-28T14:48:21.109270",
     "status": "completed"
    },
    "tags": []
   },
   "outputs": [],
   "source": [
    "from sklearn.preprocessing import StandardScaler\n",
    "ss = StandardScaler()\n",
    "X_train_scaled = ss.fit_transform(X_train)\n",
    "X_test_scaled = ss.transform(X_test)\n",
    "y_train = np.array(y_train)"
   ]
  },
  {
   "cell_type": "code",
   "execution_count": 25,
   "id": "46188465",
   "metadata": {
    "execution": {
     "iopub.execute_input": "2022-12-28T14:48:21.983932Z",
     "iopub.status.busy": "2022-12-28T14:48:21.983507Z",
     "iopub.status.idle": "2022-12-28T14:48:21.989849Z",
     "shell.execute_reply": "2022-12-28T14:48:21.988678Z"
    },
    "papermill": {
     "duration": 0.034187,
     "end_time": "2022-12-28T14:48:21.992119",
     "exception": false,
     "start_time": "2022-12-28T14:48:21.957932",
     "status": "completed"
    },
    "tags": []
   },
   "outputs": [],
   "source": [
    "forrest_params = dict(     \n",
    "    max_depth = [n for n in range(9, 14)],     \n",
    "    min_samples_split = [n for n in range(4, 11)], \n",
    "    min_samples_leaf = [n for n in range(2, 5)],     \n",
    "    n_estimators = [n for n in range(10, 60, 10)],\n",
    ")"
   ]
  },
  {
   "cell_type": "code",
   "execution_count": 26,
   "id": "a8ba3560",
   "metadata": {
    "execution": {
     "iopub.execute_input": "2022-12-28T14:48:22.042589Z",
     "iopub.status.busy": "2022-12-28T14:48:22.041753Z",
     "iopub.status.idle": "2022-12-28T14:48:22.281561Z",
     "shell.execute_reply": "2022-12-28T14:48:22.280375Z"
    },
    "papermill": {
     "duration": 0.268142,
     "end_time": "2022-12-28T14:48:22.284249",
     "exception": false,
     "start_time": "2022-12-28T14:48:22.016107",
     "status": "completed"
    },
    "tags": []
   },
   "outputs": [],
   "source": [
    "from sklearn.ensemble import RandomForestClassifier\n",
    "# instantiate Random Forest model\n",
    "forrest = RandomForestClassifier()"
   ]
  },
  {
   "cell_type": "code",
   "execution_count": 27,
   "id": "d06e792a",
   "metadata": {
    "execution": {
     "iopub.execute_input": "2022-12-28T14:48:22.335509Z",
     "iopub.status.busy": "2022-12-28T14:48:22.334584Z",
     "iopub.status.idle": "2022-12-28T14:53:44.579243Z",
     "shell.execute_reply": "2022-12-28T14:53:44.578155Z"
    },
    "papermill": {
     "duration": 322.296866,
     "end_time": "2022-12-28T14:53:44.605246",
     "exception": false,
     "start_time": "2022-12-28T14:48:22.308380",
     "status": "completed"
    },
    "tags": []
   },
   "outputs": [
    {
     "data": {
      "text/plain": [
       "GridSearchCV(cv=5, estimator=RandomForestClassifier(),\n",
       "             param_grid={'max_depth': [9, 10, 11, 12, 13],\n",
       "                         'min_samples_leaf': [2, 3, 4],\n",
       "                         'min_samples_split': [4, 5, 6, 7, 8, 9, 10],\n",
       "                         'n_estimators': [10, 20, 30, 40, 50]})"
      ]
     },
     "execution_count": 27,
     "metadata": {},
     "output_type": "execute_result"
    }
   ],
   "source": [
    "from sklearn.model_selection import GridSearchCV\n",
    "# build and fit model \n",
    "forest_cv = GridSearchCV(estimator=forrest,     param_grid=forrest_params, cv=5) \n",
    "forest_cv.fit(X_train_scaled, y_train)"
   ]
  },
  {
   "cell_type": "code",
   "execution_count": 28,
   "id": "9a42b697",
   "metadata": {
    "execution": {
     "iopub.execute_input": "2022-12-28T14:53:44.654511Z",
     "iopub.status.busy": "2022-12-28T14:53:44.654117Z",
     "iopub.status.idle": "2022-12-28T14:53:44.660521Z",
     "shell.execute_reply": "2022-12-28T14:53:44.659458Z"
    },
    "papermill": {
     "duration": 0.034799,
     "end_time": "2022-12-28T14:53:44.663812",
     "exception": false,
     "start_time": "2022-12-28T14:53:44.629013",
     "status": "completed"
    },
    "tags": []
   },
   "outputs": [
    {
     "name": "stdout",
     "output_type": "stream",
     "text": [
      "Best score: 0.9624617359533918\n",
      "Optimal params: RandomForestClassifier(max_depth=11, min_samples_leaf=2, min_samples_split=5,\n",
      "                       n_estimators=30)\n"
     ]
    }
   ],
   "source": [
    "print(\"Best score: {}\".format(forest_cv.best_score_))\n",
    "print(\"Optimal params: {}\".format(forest_cv.best_estimator_))"
   ]
  },
  {
   "cell_type": "code",
   "execution_count": 29,
   "id": "1e279d5e",
   "metadata": {
    "execution": {
     "iopub.execute_input": "2022-12-28T14:53:44.715404Z",
     "iopub.status.busy": "2022-12-28T14:53:44.714988Z",
     "iopub.status.idle": "2022-12-28T14:53:44.728047Z",
     "shell.execute_reply": "2022-12-28T14:53:44.726922Z"
    },
    "papermill": {
     "duration": 0.041328,
     "end_time": "2022-12-28T14:53:44.730710",
     "exception": false,
     "start_time": "2022-12-28T14:53:44.689382",
     "status": "completed"
    },
    "tags": []
   },
   "outputs": [],
   "source": [
    "forrest_pred = forest_cv.predict(X_test_scaled)"
   ]
  },
  {
   "cell_type": "markdown",
   "id": "14a3798a",
   "metadata": {
    "papermill": {
     "duration": 0.023778,
     "end_time": "2022-12-28T14:53:44.778769",
     "exception": false,
     "start_time": "2022-12-28T14:53:44.754991",
     "status": "completed"
    },
    "tags": []
   },
   "source": [
    "**Выгрузка изображений**"
   ]
  },
  {
   "cell_type": "code",
   "execution_count": 30,
   "id": "5e037d73",
   "metadata": {
    "execution": {
     "iopub.execute_input": "2022-12-28T14:53:44.828518Z",
     "iopub.status.busy": "2022-12-28T14:53:44.828162Z",
     "iopub.status.idle": "2022-12-28T14:53:44.841680Z",
     "shell.execute_reply": "2022-12-28T14:53:44.840675Z"
    },
    "papermill": {
     "duration": 0.04134,
     "end_time": "2022-12-28T14:53:44.844195",
     "exception": false,
     "start_time": "2022-12-28T14:53:44.802855",
     "status": "completed"
    },
    "tags": []
   },
   "outputs": [],
   "source": [
    "df_test_rfc = pd.DataFrame()\n",
    "df_test_rfc['filename'] = df_test['filename'].apply(lambda x : os.path.split(x)[1])\n",
    "df_test_rfc['blur'] = forrest_pred\n",
    "# save to csv\n",
    "df_test_rfc.to_csv('/kaggle/working/submission.csv', index=False)"
   ]
  }
 ],
 "metadata": {
  "kernelspec": {
   "display_name": "Python 3",
   "language": "python",
   "name": "python3"
  },
  "language_info": {
   "codemirror_mode": {
    "name": "ipython",
    "version": 3
   },
   "file_extension": ".py",
   "mimetype": "text/x-python",
   "name": "python",
   "nbconvert_exporter": "python",
   "pygments_lexer": "ipython3",
   "version": "3.7.12"
  },
  "papermill": {
   "default_parameters": {},
   "duration": 642.010796,
   "end_time": "2022-12-28T14:53:45.793007",
   "environment_variables": {},
   "exception": null,
   "input_path": "__notebook__.ipynb",
   "output_path": "__notebook__.ipynb",
   "parameters": {},
   "start_time": "2022-12-28T14:43:03.782211",
   "version": "2.3.4"
  }
 },
 "nbformat": 4,
 "nbformat_minor": 5
}
